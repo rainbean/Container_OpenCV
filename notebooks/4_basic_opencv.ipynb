{
 "cells": [
  {
   "cell_type": "markdown",
   "metadata": {},
   "source": [
    "## Let's check module loading first"
   ]
  },
  {
   "cell_type": "code",
   "execution_count": null,
   "metadata": {
    "scrolled": true
   },
   "outputs": [],
   "source": [
    "import numpy as np\n",
    "import cv2\n",
    "import tensorflow as tf\n",
    "import matplotlib.pyplot as plt\n",
    "\n",
    "%matplotlib inline\n",
    "\n",
    "height = 200\n",
    "width = 200\n",
    "COLOR = (227, 119, 194) # BGR\n",
    "blank_image = np.zeros((height,width,3), np.uint8)\n",
    "blank_image.fill(255) # fill in white color\n",
    "cv2.circle(blank_image, (int(height/2), int(width/2)), 50, COLOR, 5)\n",
    "plt.imshow(blank_image)\n",
    "# plt.show() # unnecessary in jupyter notebook"
   ]
  },
  {
   "cell_type": "markdown",
   "metadata": {},
   "source": [
    "## Load jpeg file\n",
    "\n",
    "OpencCV live in BGR colorspace, while Matplotlib's plot expects an RGB image"
   ]
  },
  {
   "cell_type": "code",
   "execution_count": null,
   "metadata": {},
   "outputs": [],
   "source": [
    "img = cv2.imread('data/shelf.jpg')\n",
    "plt.imshow(img)"
   ]
  },
  {
   "cell_type": "markdown",
   "metadata": {},
   "source": [
    "Let's use cvtColor function to convert color space of the image. "
   ]
  },
  {
   "cell_type": "code",
   "execution_count": null,
   "metadata": {},
   "outputs": [],
   "source": [
    "img_rgb = cv2.cvtColor(img, cv2.COLOR_BGR2RGB)\n",
    "plt.imshow(img_rgb)"
   ]
  },
  {
   "cell_type": "markdown",
   "metadata": {},
   "source": [
    "## Image segmentation\n",
    "\n",
    "OpenCV has lots useful image processing algorithm. Let's explore and see its power. At first, let's load another image"
   ]
  },
  {
   "cell_type": "code",
   "execution_count": null,
   "metadata": {},
   "outputs": [],
   "source": [
    "img = cv2.imread('data/DoTT.jpg')\n",
    "img_rgb = cv2.cvtColor(img, cv2.COLOR_BGR2RGB)\n",
    "plt.imshow(img_rgb)"
   ]
  },
  {
   "cell_type": "markdown",
   "metadata": {},
   "source": [
    "Let's apply image segmentation on the image"
   ]
  },
  {
   "cell_type": "code",
   "execution_count": null,
   "metadata": {},
   "outputs": [],
   "source": [
    "gray = cv2.cvtColor(img,cv2.COLOR_BGR2GRAY)\n",
    "ret,thresh = cv2.threshold(gray,0,255,cv2.THRESH_BINARY+cv2.THRESH_OTSU)\n",
    "\n",
    "fg = cv2.erode(thresh,None,iterations = 2)\n",
    "bgt = cv2.dilate(thresh,None,iterations = 3)\n",
    "ret,bg = cv2.threshold(bgt,1,128,1)\n",
    "\n",
    "marker = cv2.add(fg,bg)\n",
    "marker32 = np.int32(marker)\n",
    "\n",
    "cv2.watershed(img,marker32)\n",
    "m = cv2.convertScaleAbs(marker32)\n",
    "\n",
    "ret,thresh = cv2.threshold(m,0,255,cv2.THRESH_BINARY+cv2.THRESH_OTSU)\n",
    "res = cv2.bitwise_and(img,img,mask = thresh)\n",
    "\n",
    "res_rgb = cv2.cvtColor(res, cv2.COLOR_BGR2RGB)\n",
    "plt.imshow(res_rgb)"
   ]
  }
 ],
 "metadata": {
  "kernelspec": {
   "display_name": "Python 3",
   "language": "python",
   "name": "python3"
  },
  "language_info": {
   "codemirror_mode": {
    "name": "ipython",
    "version": 3
   },
   "file_extension": ".py",
   "mimetype": "text/x-python",
   "name": "python",
   "nbconvert_exporter": "python",
   "pygments_lexer": "ipython3",
   "version": "3.5.3"
  }
 },
 "nbformat": 4,
 "nbformat_minor": 1
}
